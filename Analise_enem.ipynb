{
  "nbformat": 4,
  "nbformat_minor": 0,
  "metadata": {
    "colab": {
      "name": "Analise_enem.ipynb",
      "provenance": [],
      "collapsed_sections": [],
      "authorship_tag": "ABX9TyPimdHLFeHT5mOJxtCXkSVF",
      "include_colab_link": true
    },
    "kernelspec": {
      "name": "python3",
      "display_name": "Python 3"
    }
  },
  "cells": [
    {
      "cell_type": "markdown",
      "metadata": {
        "id": "view-in-github",
        "colab_type": "text"
      },
      "source": [
        "<a href=\"https://colab.research.google.com/github/RobsonCrLira/CodenationDesafio/blob/master/Analise_enem.ipynb\" target=\"_parent\"><img src=\"https://colab.research.google.com/assets/colab-badge.svg\" alt=\"Open In Colab\"/></a>"
      ]
    },
    {
      "cell_type": "markdown",
      "metadata": {
        "id": "jyyOvJZLCg3z",
        "colab_type": "text"
      },
      "source": [
        "#Desafio do Codenation - ENEM 2016\n",
        "\n"
      ]
    },
    {
      "cell_type": "markdown",
      "metadata": {
        "id": "TjAz6Ew-DIPT",
        "colab_type": "text"
      },
      "source": [
        "Importação dos dados e das bibliotecas que irei utilizar"
      ]
    },
    {
      "cell_type": "code",
      "metadata": {
        "id": "Zda2aSdy7Beu",
        "colab_type": "code",
        "outputId": "12bd7f90-6f4d-4366-8e6d-3a15cf5cbff2",
        "colab": {
          "base_uri": "https://localhost:8080/",
          "height": 35
        }
      },
      "source": [
        "from google.colab import drive\n",
        "\n",
        "drive.mount('/content/drive')"
      ],
      "execution_count": 1,
      "outputs": [
        {
          "output_type": "stream",
          "text": [
            "Drive already mounted at /content/drive; to attempt to forcibly remount, call drive.mount(\"/content/drive\", force_remount=True).\n"
          ],
          "name": "stdout"
        }
      ]
    },
    {
      "cell_type": "code",
      "metadata": {
        "id": "fCRXq2Od7znU",
        "colab_type": "code",
        "outputId": "0f91346f-8f94-4ea9-9101-39c3d909ab53",
        "colab": {
          "base_uri": "https://localhost:8080/",
          "height": 74
        }
      },
      "source": [
        "import pandas as pd\n",
        "import numpy as np\n",
        "import matplotlib.pyplot as plt\n",
        "import seaborn as sns\n",
        "\n",
        "%matplotlib inline"
      ],
      "execution_count": 2,
      "outputs": [
        {
          "output_type": "stream",
          "text": [
            "/usr/local/lib/python3.6/dist-packages/statsmodels/tools/_testing.py:19: FutureWarning: pandas.util.testing is deprecated. Use the functions in the public API at pandas.testing instead.\n",
            "  import pandas.util.testing as tm\n"
          ],
          "name": "stderr"
        }
      ]
    },
    {
      "cell_type": "code",
      "metadata": {
        "id": "kQkDUdcF86Py",
        "colab_type": "code",
        "colab": {}
      },
      "source": [
        "train =  pd.read_csv('/content/drive/My Drive/ENEM/train.csv')\n",
        "test =  pd.read_csv('/content/drive/My Drive/ENEM/test.csv')"
      ],
      "execution_count": 0,
      "outputs": []
    },
    {
      "cell_type": "markdown",
      "metadata": {
        "id": "Sbd9h0ANDUVW",
        "colab_type": "text"
      },
      "source": [
        "Analise exploratorias dos dados"
      ]
    },
    {
      "cell_type": "code",
      "metadata": {
        "id": "Hshx3vh4J-AS",
        "colab_type": "code",
        "outputId": "1682ae19-0fc5-4d24-e8ee-0097749afbee",
        "colab": {
          "base_uri": "https://localhost:8080/",
          "height": 844
        }
      },
      "source": [
        "#conhecendo todas as colunas do sheet\n",
        "colunas = train.columns\n",
        "colunas.values"
      ],
      "execution_count": 4,
      "outputs": [
        {
          "output_type": "execute_result",
          "data": {
            "text/plain": [
              "array(['Unnamed: 0', 'NU_INSCRICAO', 'NU_ANO', 'CO_MUNICIPIO_RESIDENCIA',\n",
              "       'NO_MUNICIPIO_RESIDENCIA', 'CO_UF_RESIDENCIA', 'SG_UF_RESIDENCIA',\n",
              "       'NU_IDADE', 'TP_SEXO', 'TP_ESTADO_CIVIL', 'TP_COR_RACA',\n",
              "       'TP_NACIONALIDADE', 'CO_MUNICIPIO_NASCIMENTO',\n",
              "       'NO_MUNICIPIO_NASCIMENTO', 'CO_UF_NASCIMENTO', 'SG_UF_NASCIMENTO',\n",
              "       'TP_ST_CONCLUSAO', 'TP_ANO_CONCLUIU', 'TP_ESCOLA', 'TP_ENSINO',\n",
              "       'IN_TREINEIRO', 'CO_ESCOLA', 'CO_MUNICIPIO_ESC',\n",
              "       'NO_MUNICIPIO_ESC', 'CO_UF_ESC', 'SG_UF_ESC',\n",
              "       'TP_DEPENDENCIA_ADM_ESC', 'TP_LOCALIZACAO_ESC', 'TP_SIT_FUNC_ESC',\n",
              "       'IN_BAIXA_VISAO', 'IN_CEGUEIRA', 'IN_SURDEZ',\n",
              "       'IN_DEFICIENCIA_AUDITIVA', 'IN_SURDO_CEGUEIRA',\n",
              "       'IN_DEFICIENCIA_FISICA', 'IN_DEFICIENCIA_MENTAL',\n",
              "       'IN_DEFICIT_ATENCAO', 'IN_DISLEXIA', 'IN_DISCALCULIA',\n",
              "       'IN_AUTISMO', 'IN_VISAO_MONOCULAR', 'IN_OUTRA_DEF', 'IN_SABATISTA',\n",
              "       'IN_GESTANTE', 'IN_LACTANTE', 'IN_IDOSO',\n",
              "       'IN_ESTUDA_CLASSE_HOSPITALAR', 'IN_SEM_RECURSO', 'IN_BRAILLE',\n",
              "       'IN_AMPLIADA_24', 'IN_AMPLIADA_18', 'IN_LEDOR', 'IN_ACESSO',\n",
              "       'IN_TRANSCRICAO', 'IN_LIBRAS', 'IN_LEITURA_LABIAL',\n",
              "       'IN_MESA_CADEIRA_RODAS', 'IN_MESA_CADEIRA_SEPARADA',\n",
              "       'IN_APOIO_PERNA', 'IN_GUIA_INTERPRETE', 'IN_MACA', 'IN_COMPUTADOR',\n",
              "       'IN_CADEIRA_ESPECIAL', 'IN_CADEIRA_CANHOTO',\n",
              "       'IN_CADEIRA_ACOLCHOADA', 'IN_PROVA_DEITADO', 'IN_MOBILIARIO_OBESO',\n",
              "       'IN_LAMINA_OVERLAY', 'IN_PROTETOR_AURICULAR', 'IN_MEDIDOR_GLICOSE',\n",
              "       'IN_MAQUINA_BRAILE', 'IN_SOROBAN', 'IN_MARCA_PASSO', 'IN_SONDA',\n",
              "       'IN_MEDICAMENTOS', 'IN_SALA_INDIVIDUAL', 'IN_SALA_ESPECIAL',\n",
              "       'IN_SALA_ACOMPANHANTE', 'IN_MOBILIARIO_ESPECIFICO',\n",
              "       'IN_MATERIAL_ESPECIFICO', 'IN_NOME_SOCIAL', 'IN_CERTIFICADO',\n",
              "       'NO_ENTIDADE_CERTIFICACAO', 'CO_UF_ENTIDADE_CERTIFICACAO',\n",
              "       'SG_UF_ENTIDADE_CERTIFICACAO', 'CO_MUNICIPIO_PROVA',\n",
              "       'NO_MUNICIPIO_PROVA', 'CO_UF_PROVA', 'SG_UF_PROVA',\n",
              "       'TP_PRESENCA_CN', 'TP_PRESENCA_CH', 'TP_PRESENCA_LC',\n",
              "       'TP_PRESENCA_MT', 'CO_PROVA_CN', 'CO_PROVA_CH', 'CO_PROVA_LC',\n",
              "       'CO_PROVA_MT', 'NU_NOTA_CN', 'NU_NOTA_CH', 'NU_NOTA_LC',\n",
              "       'NU_NOTA_MT', 'TX_RESPOSTAS_CN', 'TX_RESPOSTAS_CH',\n",
              "       'TX_RESPOSTAS_LC', 'TX_RESPOSTAS_MT', 'TP_LINGUA',\n",
              "       'TX_GABARITO_CN', 'TX_GABARITO_CH', 'TX_GABARITO_LC',\n",
              "       'TX_GABARITO_MT', 'TP_STATUS_REDACAO', 'NU_NOTA_COMP1',\n",
              "       'NU_NOTA_COMP2', 'NU_NOTA_COMP3', 'NU_NOTA_COMP4', 'NU_NOTA_COMP5',\n",
              "       'NU_NOTA_REDACAO', 'Q001', 'Q002', 'Q003', 'Q004', 'Q005', 'Q006',\n",
              "       'Q007', 'Q008', 'Q009', 'Q010', 'Q011', 'Q012', 'Q013', 'Q014',\n",
              "       'Q015', 'Q016', 'Q017', 'Q018', 'Q019', 'Q020', 'Q021', 'Q022',\n",
              "       'Q023', 'Q024', 'Q025', 'Q026', 'Q027', 'Q028', 'Q029', 'Q030',\n",
              "       'Q031', 'Q032', 'Q033', 'Q034', 'Q035', 'Q036', 'Q037', 'Q038',\n",
              "       'Q039', 'Q040', 'Q041', 'Q042', 'Q043', 'Q044', 'Q045', 'Q046',\n",
              "       'Q047', 'Q048', 'Q049', 'Q050'], dtype=object)"
            ]
          },
          "metadata": {
            "tags": []
          },
          "execution_count": 4
        }
      ]
    },
    {
      "cell_type": "code",
      "metadata": {
        "id": "H8rsR_0bJwns",
        "colab_type": "code",
        "colab": {}
      },
      "source": [
        "colunas_notas = ['NU_NOTA_CN','NU_NOTA_CH','NU_NOTA_LC','NU_NOTA_COMP1',\n",
        "                 'NU_NOTA_COMP2','NU_NOTA_COMP3','NU_NOTA_COMP4','NU_NOTA_COMP5','NU_NOTA_REDACAO']"
      ],
      "execution_count": 0,
      "outputs": []
    },
    {
      "cell_type": "code",
      "metadata": {
        "id": "cSUvTFUQ9gaj",
        "colab_type": "code",
        "outputId": "5f56a83e-80f2-4aa1-a6d4-5cf597c13ddc",
        "colab": {
          "base_uri": "https://localhost:8080/",
          "height": 273
        }
      },
      "source": [
        "train.head()"
      ],
      "execution_count": 6,
      "outputs": [
        {
          "output_type": "execute_result",
          "data": {
            "text/html": [
              "<div>\n",
              "<style scoped>\n",
              "    .dataframe tbody tr th:only-of-type {\n",
              "        vertical-align: middle;\n",
              "    }\n",
              "\n",
              "    .dataframe tbody tr th {\n",
              "        vertical-align: top;\n",
              "    }\n",
              "\n",
              "    .dataframe thead th {\n",
              "        text-align: right;\n",
              "    }\n",
              "</style>\n",
              "<table border=\"1\" class=\"dataframe\">\n",
              "  <thead>\n",
              "    <tr style=\"text-align: right;\">\n",
              "      <th></th>\n",
              "      <th>Unnamed: 0</th>\n",
              "      <th>NU_INSCRICAO</th>\n",
              "      <th>NU_ANO</th>\n",
              "      <th>CO_MUNICIPIO_RESIDENCIA</th>\n",
              "      <th>NO_MUNICIPIO_RESIDENCIA</th>\n",
              "      <th>CO_UF_RESIDENCIA</th>\n",
              "      <th>SG_UF_RESIDENCIA</th>\n",
              "      <th>NU_IDADE</th>\n",
              "      <th>TP_SEXO</th>\n",
              "      <th>TP_ESTADO_CIVIL</th>\n",
              "      <th>TP_COR_RACA</th>\n",
              "      <th>TP_NACIONALIDADE</th>\n",
              "      <th>CO_MUNICIPIO_NASCIMENTO</th>\n",
              "      <th>NO_MUNICIPIO_NASCIMENTO</th>\n",
              "      <th>CO_UF_NASCIMENTO</th>\n",
              "      <th>SG_UF_NASCIMENTO</th>\n",
              "      <th>TP_ST_CONCLUSAO</th>\n",
              "      <th>TP_ANO_CONCLUIU</th>\n",
              "      <th>TP_ESCOLA</th>\n",
              "      <th>TP_ENSINO</th>\n",
              "      <th>IN_TREINEIRO</th>\n",
              "      <th>CO_ESCOLA</th>\n",
              "      <th>CO_MUNICIPIO_ESC</th>\n",
              "      <th>NO_MUNICIPIO_ESC</th>\n",
              "      <th>CO_UF_ESC</th>\n",
              "      <th>SG_UF_ESC</th>\n",
              "      <th>TP_DEPENDENCIA_ADM_ESC</th>\n",
              "      <th>TP_LOCALIZACAO_ESC</th>\n",
              "      <th>TP_SIT_FUNC_ESC</th>\n",
              "      <th>IN_BAIXA_VISAO</th>\n",
              "      <th>IN_CEGUEIRA</th>\n",
              "      <th>IN_SURDEZ</th>\n",
              "      <th>IN_DEFICIENCIA_AUDITIVA</th>\n",
              "      <th>IN_SURDO_CEGUEIRA</th>\n",
              "      <th>IN_DEFICIENCIA_FISICA</th>\n",
              "      <th>IN_DEFICIENCIA_MENTAL</th>\n",
              "      <th>IN_DEFICIT_ATENCAO</th>\n",
              "      <th>IN_DISLEXIA</th>\n",
              "      <th>IN_DISCALCULIA</th>\n",
              "      <th>IN_AUTISMO</th>\n",
              "      <th>...</th>\n",
              "      <th>Q011</th>\n",
              "      <th>Q012</th>\n",
              "      <th>Q013</th>\n",
              "      <th>Q014</th>\n",
              "      <th>Q015</th>\n",
              "      <th>Q016</th>\n",
              "      <th>Q017</th>\n",
              "      <th>Q018</th>\n",
              "      <th>Q019</th>\n",
              "      <th>Q020</th>\n",
              "      <th>Q021</th>\n",
              "      <th>Q022</th>\n",
              "      <th>Q023</th>\n",
              "      <th>Q024</th>\n",
              "      <th>Q025</th>\n",
              "      <th>Q026</th>\n",
              "      <th>Q027</th>\n",
              "      <th>Q028</th>\n",
              "      <th>Q029</th>\n",
              "      <th>Q030</th>\n",
              "      <th>Q031</th>\n",
              "      <th>Q032</th>\n",
              "      <th>Q033</th>\n",
              "      <th>Q034</th>\n",
              "      <th>Q035</th>\n",
              "      <th>Q036</th>\n",
              "      <th>Q037</th>\n",
              "      <th>Q038</th>\n",
              "      <th>Q039</th>\n",
              "      <th>Q040</th>\n",
              "      <th>Q041</th>\n",
              "      <th>Q042</th>\n",
              "      <th>Q043</th>\n",
              "      <th>Q044</th>\n",
              "      <th>Q045</th>\n",
              "      <th>Q046</th>\n",
              "      <th>Q047</th>\n",
              "      <th>Q048</th>\n",
              "      <th>Q049</th>\n",
              "      <th>Q050</th>\n",
              "    </tr>\n",
              "  </thead>\n",
              "  <tbody>\n",
              "    <tr>\n",
              "      <th>0</th>\n",
              "      <td>1</td>\n",
              "      <td>ed50e8aaa58e7a806c337585efee9ca41f1eb1ad</td>\n",
              "      <td>2016</td>\n",
              "      <td>4314902</td>\n",
              "      <td>Porto Alegre</td>\n",
              "      <td>43</td>\n",
              "      <td>RS</td>\n",
              "      <td>24</td>\n",
              "      <td>M</td>\n",
              "      <td>0.0</td>\n",
              "      <td>1</td>\n",
              "      <td>1</td>\n",
              "      <td>4314902.0</td>\n",
              "      <td>Porto Alegre</td>\n",
              "      <td>43.0</td>\n",
              "      <td>RS</td>\n",
              "      <td>1</td>\n",
              "      <td>4</td>\n",
              "      <td>1</td>\n",
              "      <td>NaN</td>\n",
              "      <td>0</td>\n",
              "      <td>NaN</td>\n",
              "      <td>NaN</td>\n",
              "      <td>NaN</td>\n",
              "      <td>NaN</td>\n",
              "      <td>NaN</td>\n",
              "      <td>NaN</td>\n",
              "      <td>NaN</td>\n",
              "      <td>NaN</td>\n",
              "      <td>0</td>\n",
              "      <td>0</td>\n",
              "      <td>0</td>\n",
              "      <td>0</td>\n",
              "      <td>0</td>\n",
              "      <td>0</td>\n",
              "      <td>0</td>\n",
              "      <td>0</td>\n",
              "      <td>0</td>\n",
              "      <td>0</td>\n",
              "      <td>0</td>\n",
              "      <td>...</td>\n",
              "      <td>A</td>\n",
              "      <td>B</td>\n",
              "      <td>A</td>\n",
              "      <td>A</td>\n",
              "      <td>A</td>\n",
              "      <td>A</td>\n",
              "      <td>A</td>\n",
              "      <td>A</td>\n",
              "      <td>B</td>\n",
              "      <td>A</td>\n",
              "      <td>A</td>\n",
              "      <td>C</td>\n",
              "      <td>A</td>\n",
              "      <td>A</td>\n",
              "      <td>A</td>\n",
              "      <td>C</td>\n",
              "      <td>H</td>\n",
              "      <td>E</td>\n",
              "      <td>5.0</td>\n",
              "      <td>5.0</td>\n",
              "      <td>1.0</td>\n",
              "      <td>0.0</td>\n",
              "      <td>0.0</td>\n",
              "      <td>5</td>\n",
              "      <td>5</td>\n",
              "      <td>0</td>\n",
              "      <td>5</td>\n",
              "      <td>5</td>\n",
              "      <td>5</td>\n",
              "      <td>5</td>\n",
              "      <td>5.0</td>\n",
              "      <td>A</td>\n",
              "      <td>A</td>\n",
              "      <td>A</td>\n",
              "      <td>A</td>\n",
              "      <td>A</td>\n",
              "      <td>A</td>\n",
              "      <td>A</td>\n",
              "      <td>B</td>\n",
              "      <td>D</td>\n",
              "    </tr>\n",
              "    <tr>\n",
              "      <th>1</th>\n",
              "      <td>2</td>\n",
              "      <td>2c3acac4b33ec2b195d77e7c04a2d75727fad723</td>\n",
              "      <td>2016</td>\n",
              "      <td>2304707</td>\n",
              "      <td>Granja</td>\n",
              "      <td>23</td>\n",
              "      <td>CE</td>\n",
              "      <td>17</td>\n",
              "      <td>F</td>\n",
              "      <td>0.0</td>\n",
              "      <td>3</td>\n",
              "      <td>1</td>\n",
              "      <td>2304707.0</td>\n",
              "      <td>Granja</td>\n",
              "      <td>23.0</td>\n",
              "      <td>CE</td>\n",
              "      <td>2</td>\n",
              "      <td>0</td>\n",
              "      <td>2</td>\n",
              "      <td>1.0</td>\n",
              "      <td>0</td>\n",
              "      <td>23005157.0</td>\n",
              "      <td>2304707.0</td>\n",
              "      <td>Granja</td>\n",
              "      <td>23.0</td>\n",
              "      <td>CE</td>\n",
              "      <td>2.0</td>\n",
              "      <td>1.0</td>\n",
              "      <td>1.0</td>\n",
              "      <td>0</td>\n",
              "      <td>0</td>\n",
              "      <td>0</td>\n",
              "      <td>0</td>\n",
              "      <td>0</td>\n",
              "      <td>0</td>\n",
              "      <td>0</td>\n",
              "      <td>0</td>\n",
              "      <td>0</td>\n",
              "      <td>0</td>\n",
              "      <td>0</td>\n",
              "      <td>...</td>\n",
              "      <td>A</td>\n",
              "      <td>B</td>\n",
              "      <td>A</td>\n",
              "      <td>A</td>\n",
              "      <td>A</td>\n",
              "      <td>A</td>\n",
              "      <td>A</td>\n",
              "      <td>A</td>\n",
              "      <td>B</td>\n",
              "      <td>A</td>\n",
              "      <td>A</td>\n",
              "      <td>A</td>\n",
              "      <td>A</td>\n",
              "      <td>A</td>\n",
              "      <td>A</td>\n",
              "      <td>A</td>\n",
              "      <td>NaN</td>\n",
              "      <td>NaN</td>\n",
              "      <td>NaN</td>\n",
              "      <td>NaN</td>\n",
              "      <td>NaN</td>\n",
              "      <td>NaN</td>\n",
              "      <td>NaN</td>\n",
              "      <td>5</td>\n",
              "      <td>5</td>\n",
              "      <td>1</td>\n",
              "      <td>1</td>\n",
              "      <td>1</td>\n",
              "      <td>1</td>\n",
              "      <td>1</td>\n",
              "      <td>NaN</td>\n",
              "      <td>A</td>\n",
              "      <td>A</td>\n",
              "      <td>C</td>\n",
              "      <td>A</td>\n",
              "      <td>B</td>\n",
              "      <td>A</td>\n",
              "      <td>A</td>\n",
              "      <td>C</td>\n",
              "      <td>A</td>\n",
              "    </tr>\n",
              "    <tr>\n",
              "      <th>2</th>\n",
              "      <td>3</td>\n",
              "      <td>f4545f8ccb9ff5c8aad7d32951b3f251a26e6568</td>\n",
              "      <td>2016</td>\n",
              "      <td>2304400</td>\n",
              "      <td>Fortaleza</td>\n",
              "      <td>23</td>\n",
              "      <td>CE</td>\n",
              "      <td>21</td>\n",
              "      <td>F</td>\n",
              "      <td>0.0</td>\n",
              "      <td>3</td>\n",
              "      <td>1</td>\n",
              "      <td>2304400.0</td>\n",
              "      <td>Fortaleza</td>\n",
              "      <td>23.0</td>\n",
              "      <td>CE</td>\n",
              "      <td>3</td>\n",
              "      <td>0</td>\n",
              "      <td>1</td>\n",
              "      <td>NaN</td>\n",
              "      <td>0</td>\n",
              "      <td>NaN</td>\n",
              "      <td>NaN</td>\n",
              "      <td>NaN</td>\n",
              "      <td>NaN</td>\n",
              "      <td>NaN</td>\n",
              "      <td>NaN</td>\n",
              "      <td>NaN</td>\n",
              "      <td>NaN</td>\n",
              "      <td>0</td>\n",
              "      <td>0</td>\n",
              "      <td>0</td>\n",
              "      <td>0</td>\n",
              "      <td>0</td>\n",
              "      <td>0</td>\n",
              "      <td>0</td>\n",
              "      <td>0</td>\n",
              "      <td>0</td>\n",
              "      <td>0</td>\n",
              "      <td>0</td>\n",
              "      <td>...</td>\n",
              "      <td>A</td>\n",
              "      <td>B</td>\n",
              "      <td>A</td>\n",
              "      <td>A</td>\n",
              "      <td>A</td>\n",
              "      <td>A</td>\n",
              "      <td>A</td>\n",
              "      <td>A</td>\n",
              "      <td>B</td>\n",
              "      <td>A</td>\n",
              "      <td>A</td>\n",
              "      <td>B</td>\n",
              "      <td>A</td>\n",
              "      <td>A</td>\n",
              "      <td>A</td>\n",
              "      <td>A</td>\n",
              "      <td>NaN</td>\n",
              "      <td>NaN</td>\n",
              "      <td>NaN</td>\n",
              "      <td>NaN</td>\n",
              "      <td>NaN</td>\n",
              "      <td>NaN</td>\n",
              "      <td>NaN</td>\n",
              "      <td>5</td>\n",
              "      <td>5</td>\n",
              "      <td>5</td>\n",
              "      <td>5</td>\n",
              "      <td>5</td>\n",
              "      <td>5</td>\n",
              "      <td>5</td>\n",
              "      <td>NaN</td>\n",
              "      <td>A</td>\n",
              "      <td>A</td>\n",
              "      <td>A</td>\n",
              "      <td>A</td>\n",
              "      <td>C</td>\n",
              "      <td>A</td>\n",
              "      <td>A</td>\n",
              "      <td>B</td>\n",
              "      <td>A</td>\n",
              "    </tr>\n",
              "    <tr>\n",
              "      <th>3</th>\n",
              "      <td>4</td>\n",
              "      <td>3d6ec248fef899c414e77f82d5c6d2bffbeaf7fe</td>\n",
              "      <td>2016</td>\n",
              "      <td>3304557</td>\n",
              "      <td>Rio de Janeiro</td>\n",
              "      <td>33</td>\n",
              "      <td>RJ</td>\n",
              "      <td>25</td>\n",
              "      <td>F</td>\n",
              "      <td>0.0</td>\n",
              "      <td>0</td>\n",
              "      <td>1</td>\n",
              "      <td>3304557.0</td>\n",
              "      <td>Rio de Janeiro</td>\n",
              "      <td>33.0</td>\n",
              "      <td>RJ</td>\n",
              "      <td>1</td>\n",
              "      <td>9</td>\n",
              "      <td>1</td>\n",
              "      <td>NaN</td>\n",
              "      <td>0</td>\n",
              "      <td>NaN</td>\n",
              "      <td>NaN</td>\n",
              "      <td>NaN</td>\n",
              "      <td>NaN</td>\n",
              "      <td>NaN</td>\n",
              "      <td>NaN</td>\n",
              "      <td>NaN</td>\n",
              "      <td>NaN</td>\n",
              "      <td>0</td>\n",
              "      <td>0</td>\n",
              "      <td>0</td>\n",
              "      <td>0</td>\n",
              "      <td>0</td>\n",
              "      <td>0</td>\n",
              "      <td>0</td>\n",
              "      <td>0</td>\n",
              "      <td>0</td>\n",
              "      <td>0</td>\n",
              "      <td>0</td>\n",
              "      <td>...</td>\n",
              "      <td>A</td>\n",
              "      <td>B</td>\n",
              "      <td>B</td>\n",
              "      <td>B</td>\n",
              "      <td>A</td>\n",
              "      <td>B</td>\n",
              "      <td>A</td>\n",
              "      <td>B</td>\n",
              "      <td>C</td>\n",
              "      <td>A</td>\n",
              "      <td>B</td>\n",
              "      <td>D</td>\n",
              "      <td>B</td>\n",
              "      <td>C</td>\n",
              "      <td>B</td>\n",
              "      <td>C</td>\n",
              "      <td>F</td>\n",
              "      <td>C</td>\n",
              "      <td>2.0</td>\n",
              "      <td>0.0</td>\n",
              "      <td>5.0</td>\n",
              "      <td>5.0</td>\n",
              "      <td>5.0</td>\n",
              "      <td>5</td>\n",
              "      <td>5</td>\n",
              "      <td>5</td>\n",
              "      <td>5</td>\n",
              "      <td>2</td>\n",
              "      <td>5</td>\n",
              "      <td>5</td>\n",
              "      <td>5.0</td>\n",
              "      <td>C</td>\n",
              "      <td>A</td>\n",
              "      <td>A</td>\n",
              "      <td>A</td>\n",
              "      <td>A</td>\n",
              "      <td>D</td>\n",
              "      <td>A</td>\n",
              "      <td>A</td>\n",
              "      <td>A</td>\n",
              "    </tr>\n",
              "    <tr>\n",
              "      <th>4</th>\n",
              "      <td>5</td>\n",
              "      <td>bf896ac8d3ecadd6dba1dfbf50110afcbf5d3268</td>\n",
              "      <td>2016</td>\n",
              "      <td>1302603</td>\n",
              "      <td>Manaus</td>\n",
              "      <td>13</td>\n",
              "      <td>AM</td>\n",
              "      <td>28</td>\n",
              "      <td>M</td>\n",
              "      <td>0.0</td>\n",
              "      <td>2</td>\n",
              "      <td>1</td>\n",
              "      <td>1505304.0</td>\n",
              "      <td>Oriximiná</td>\n",
              "      <td>15.0</td>\n",
              "      <td>PA</td>\n",
              "      <td>1</td>\n",
              "      <td>4</td>\n",
              "      <td>1</td>\n",
              "      <td>NaN</td>\n",
              "      <td>0</td>\n",
              "      <td>NaN</td>\n",
              "      <td>NaN</td>\n",
              "      <td>NaN</td>\n",
              "      <td>NaN</td>\n",
              "      <td>NaN</td>\n",
              "      <td>NaN</td>\n",
              "      <td>NaN</td>\n",
              "      <td>NaN</td>\n",
              "      <td>0</td>\n",
              "      <td>0</td>\n",
              "      <td>0</td>\n",
              "      <td>0</td>\n",
              "      <td>0</td>\n",
              "      <td>0</td>\n",
              "      <td>0</td>\n",
              "      <td>0</td>\n",
              "      <td>0</td>\n",
              "      <td>0</td>\n",
              "      <td>0</td>\n",
              "      <td>...</td>\n",
              "      <td>A</td>\n",
              "      <td>B</td>\n",
              "      <td>A</td>\n",
              "      <td>B</td>\n",
              "      <td>A</td>\n",
              "      <td>A</td>\n",
              "      <td>A</td>\n",
              "      <td>A</td>\n",
              "      <td>B</td>\n",
              "      <td>A</td>\n",
              "      <td>A</td>\n",
              "      <td>B</td>\n",
              "      <td>A</td>\n",
              "      <td>A</td>\n",
              "      <td>A</td>\n",
              "      <td>B</td>\n",
              "      <td>F</td>\n",
              "      <td>D</td>\n",
              "      <td>5.0</td>\n",
              "      <td>4.0</td>\n",
              "      <td>3.0</td>\n",
              "      <td>5.0</td>\n",
              "      <td>4.0</td>\n",
              "      <td>5</td>\n",
              "      <td>5</td>\n",
              "      <td>4</td>\n",
              "      <td>3</td>\n",
              "      <td>1</td>\n",
              "      <td>4</td>\n",
              "      <td>5</td>\n",
              "      <td>NaN</td>\n",
              "      <td>A</td>\n",
              "      <td>A</td>\n",
              "      <td>A</td>\n",
              "      <td>A</td>\n",
              "      <td>A</td>\n",
              "      <td>A</td>\n",
              "      <td>A</td>\n",
              "      <td>A</td>\n",
              "      <td>A</td>\n",
              "    </tr>\n",
              "  </tbody>\n",
              "</table>\n",
              "<p>5 rows × 167 columns</p>\n",
              "</div>"
            ],
            "text/plain": [
              "   Unnamed: 0                              NU_INSCRICAO  ...  Q049  Q050\n",
              "0           1  ed50e8aaa58e7a806c337585efee9ca41f1eb1ad  ...     B     D\n",
              "1           2  2c3acac4b33ec2b195d77e7c04a2d75727fad723  ...     C     A\n",
              "2           3  f4545f8ccb9ff5c8aad7d32951b3f251a26e6568  ...     B     A\n",
              "3           4  3d6ec248fef899c414e77f82d5c6d2bffbeaf7fe  ...     A     A\n",
              "4           5  bf896ac8d3ecadd6dba1dfbf50110afcbf5d3268  ...     A     A\n",
              "\n",
              "[5 rows x 167 columns]"
            ]
          },
          "metadata": {
            "tags": []
          },
          "execution_count": 6
        }
      ]
    },
    {
      "cell_type": "code",
      "metadata": {
        "id": "q1z7WdEYOOFL",
        "colab_type": "code",
        "colab": {}
      },
      "source": [
        "#Funcao para mostrar a relação das notas\n",
        "def plot_notas(df,colunas_plot):\n",
        "  plt.figure(figsize=(16,8))\n",
        "  sns.set_style('whitegrid')\n",
        "  sns.pairplot(data=df[colunas_plot], palette='RdBu', markers='+', kind='reg',\n",
        "               corner=True, diag_kind='kde',diag_kws=dict(shade=True), plot_kws={'line_kws':{'color':'#912a2a'}});\n",
        "  plt.show()"
      ],
      "execution_count": 0,
      "outputs": []
    },
    {
      "cell_type": "code",
      "metadata": {
        "id": "8dtvZG0-OnXA",
        "colab_type": "code",
        "outputId": "e0dd1d86-3683-4d9e-898a-c3366b09cf87",
        "colab": {
          "base_uri": "https://localhost:8080/",
          "height": 363
        }
      },
      "source": [
        "#encontrando todos os tados nulos no datasheet e aprensentando em quantidade total e porcentagem no volume de dados do datasheet\n",
        "total_zeros_sum = train.isnull().sum().sort_values(ascending=False)\n",
        "total_zeros_count = train.isnull().count()\n",
        "porcentagem =(total_zeros_sum/total_zeros_count).sort_values(ascending=False)\n",
        "dados_nulos = pd.concat([total_zeros_sum,porcentagem], axis=1,keys=[\"Total\",\"Pocentagem\"])\n",
        "dados_nulos.head(10)\n"
      ],
      "execution_count": 8,
      "outputs": [
        {
          "output_type": "execute_result",
          "data": {
            "text/html": [
              "<div>\n",
              "<style scoped>\n",
              "    .dataframe tbody tr th:only-of-type {\n",
              "        vertical-align: middle;\n",
              "    }\n",
              "\n",
              "    .dataframe tbody tr th {\n",
              "        vertical-align: top;\n",
              "    }\n",
              "\n",
              "    .dataframe thead th {\n",
              "        text-align: right;\n",
              "    }\n",
              "</style>\n",
              "<table border=\"1\" class=\"dataframe\">\n",
              "  <thead>\n",
              "    <tr style=\"text-align: right;\">\n",
              "      <th></th>\n",
              "      <th>Total</th>\n",
              "      <th>Pocentagem</th>\n",
              "    </tr>\n",
              "  </thead>\n",
              "  <tbody>\n",
              "    <tr>\n",
              "      <th>CO_UF_ENTIDADE_CERTIFICACAO</th>\n",
              "      <td>12092</td>\n",
              "      <td>0.880699</td>\n",
              "    </tr>\n",
              "    <tr>\n",
              "      <th>NO_ENTIDADE_CERTIFICACAO</th>\n",
              "      <td>12092</td>\n",
              "      <td>0.880699</td>\n",
              "    </tr>\n",
              "    <tr>\n",
              "      <th>SG_UF_ENTIDADE_CERTIFICACAO</th>\n",
              "      <td>12092</td>\n",
              "      <td>0.880699</td>\n",
              "    </tr>\n",
              "    <tr>\n",
              "      <th>Q041</th>\n",
              "      <td>10792</td>\n",
              "      <td>0.786016</td>\n",
              "    </tr>\n",
              "    <tr>\n",
              "      <th>TP_SIT_FUNC_ESC</th>\n",
              "      <td>9448</td>\n",
              "      <td>0.688128</td>\n",
              "    </tr>\n",
              "    <tr>\n",
              "      <th>TP_LOCALIZACAO_ESC</th>\n",
              "      <td>9448</td>\n",
              "      <td>0.688128</td>\n",
              "    </tr>\n",
              "    <tr>\n",
              "      <th>TP_DEPENDENCIA_ADM_ESC</th>\n",
              "      <td>9448</td>\n",
              "      <td>0.688128</td>\n",
              "    </tr>\n",
              "    <tr>\n",
              "      <th>CO_UF_ESC</th>\n",
              "      <td>9448</td>\n",
              "      <td>0.688128</td>\n",
              "    </tr>\n",
              "    <tr>\n",
              "      <th>NO_MUNICIPIO_ESC</th>\n",
              "      <td>9448</td>\n",
              "      <td>0.688128</td>\n",
              "    </tr>\n",
              "    <tr>\n",
              "      <th>CO_MUNICIPIO_ESC</th>\n",
              "      <td>9448</td>\n",
              "      <td>0.688128</td>\n",
              "    </tr>\n",
              "  </tbody>\n",
              "</table>\n",
              "</div>"
            ],
            "text/plain": [
              "                             Total  Pocentagem\n",
              "CO_UF_ENTIDADE_CERTIFICACAO  12092    0.880699\n",
              "NO_ENTIDADE_CERTIFICACAO     12092    0.880699\n",
              "SG_UF_ENTIDADE_CERTIFICACAO  12092    0.880699\n",
              "Q041                         10792    0.786016\n",
              "TP_SIT_FUNC_ESC               9448    0.688128\n",
              "TP_LOCALIZACAO_ESC            9448    0.688128\n",
              "TP_DEPENDENCIA_ADM_ESC        9448    0.688128\n",
              "CO_UF_ESC                     9448    0.688128\n",
              "NO_MUNICIPIO_ESC              9448    0.688128\n",
              "CO_MUNICIPIO_ESC              9448    0.688128"
            ]
          },
          "metadata": {
            "tags": []
          },
          "execution_count": 8
        }
      ]
    },
    {
      "cell_type": "code",
      "metadata": {
        "id": "3aP7tUOuPbkL",
        "colab_type": "code",
        "outputId": "f99403f9-9e96-4198-a4d4-0b1a2f9920c0",
        "colab": {
          "base_uri": "https://localhost:8080/",
          "height": 605
        }
      },
      "source": [
        "dados_nulos.tail(123).index.values"
      ],
      "execution_count": 9,
      "outputs": [
        {
          "output_type": "execute_result",
          "data": {
            "text/plain": [
              "array(['IN_SABATISTA', 'IN_LACTANTE', 'IN_GESTANTE',\n",
              "       'IN_MESA_CADEIRA_SEPARADA', 'IN_IDOSO', 'IN_CADEIRA_CANHOTO',\n",
              "       'IN_MESA_CADEIRA_RODAS', 'IN_LEITURA_LABIAL', 'IN_APOIO_PERNA',\n",
              "       'IN_LIBRAS', 'IN_GUIA_INTERPRETE', 'IN_MACA', 'IN_COMPUTADOR',\n",
              "       'IN_CADEIRA_ESPECIAL', 'IN_CADEIRA_ACOLCHOADA',\n",
              "       'IN_ESTUDA_CLASSE_HOSPITALAR', 'IN_PROVA_DEITADO',\n",
              "       'IN_MOBILIARIO_OBESO', 'IN_TRANSCRICAO', 'IN_ACESSO',\n",
              "       'IN_AMPLIADA_18', 'IN_AMPLIADA_24', 'IN_BRAILLE', 'IN_SEM_RECURSO',\n",
              "       'IN_LEDOR', 'IN_VISAO_MONOCULAR', 'IN_OUTRA_DEF',\n",
              "       'IN_PROTETOR_AURICULAR', 'NU_INSCRICAO', 'NU_ANO',\n",
              "       'CO_MUNICIPIO_RESIDENCIA', 'NO_MUNICIPIO_RESIDENCIA',\n",
              "       'CO_UF_RESIDENCIA', 'SG_UF_RESIDENCIA', 'NU_IDADE', 'TP_SEXO',\n",
              "       'TP_COR_RACA', 'TP_NACIONALIDADE', 'TP_ST_CONCLUSAO',\n",
              "       'TP_ANO_CONCLUIU', 'TP_ESCOLA', 'IN_TREINEIRO', 'IN_BAIXA_VISAO',\n",
              "       'IN_CEGUEIRA', 'IN_SURDEZ', 'IN_DEFICIENCIA_AUDITIVA',\n",
              "       'IN_SURDO_CEGUEIRA', 'IN_DEFICIENCIA_FISICA',\n",
              "       'IN_DEFICIENCIA_MENTAL', 'IN_DEFICIT_ATENCAO', 'IN_DISLEXIA',\n",
              "       'IN_DISCALCULIA', 'IN_AUTISMO', 'IN_LAMINA_OVERLAY', 'Q050',\n",
              "       'IN_MEDIDOR_GLICOSE', 'Q017', 'Q023', 'Q022', 'Q021', 'Q020',\n",
              "       'Q019', 'Q018', 'Q016', 'IN_MAQUINA_BRAILE', 'Q015', 'Q014',\n",
              "       'Q013', 'Q012', 'Q011', 'Q010', 'Q024', 'Q025', 'Q026', 'Q034',\n",
              "       'Q035', 'Q036', 'Q037', 'Q038', 'Q039', 'Q040', 'Q042', 'Q043',\n",
              "       'Q044', 'Q045', 'Q046', 'Q047', 'Q048', 'Q009', 'Q008', 'Q007',\n",
              "       'CO_UF_PROVA', 'IN_SOROBAN', 'IN_MARCA_PASSO', 'IN_SONDA',\n",
              "       'IN_MEDICAMENTOS', 'IN_SALA_INDIVIDUAL', 'IN_SALA_ESPECIAL',\n",
              "       'IN_SALA_ACOMPANHANTE', 'IN_MOBILIARIO_ESPECIFICO',\n",
              "       'IN_MATERIAL_ESPECIFICO', 'IN_NOME_SOCIAL', 'IN_CERTIFICADO',\n",
              "       'Q049', 'CO_MUNICIPIO_PROVA', 'NO_MUNICIPIO_PROVA', 'SG_UF_PROVA',\n",
              "       'Q006', 'TP_PRESENCA_CN', 'TP_PRESENCA_CH', 'TP_PRESENCA_LC',\n",
              "       'TP_PRESENCA_MT', 'CO_PROVA_CN', 'CO_PROVA_CH', 'CO_PROVA_LC',\n",
              "       'CO_PROVA_MT', 'TP_LINGUA', 'Q001', 'Q002', 'Q003', 'Q004', 'Q005',\n",
              "       'Unnamed: 0'], dtype=object)"
            ]
          },
          "metadata": {
            "tags": []
          },
          "execution_count": 9
        }
      ]
    },
    {
      "cell_type": "code",
      "metadata": {
        "id": "3FQxsSw1xA75",
        "colab_type": "code",
        "outputId": "8f9455d1-533c-41eb-f09f-6df912163158",
        "colab": {
          "base_uri": "https://localhost:8080/",
          "height": 844
        }
      },
      "source": [
        "cont = 0\n",
        "for valor in colunas:\n",
        "    if( (train[valor].isnull().sum()) > 0):\n",
        "        zero_coluna = train[valor].isnull().sum()\n",
        "        cont = cont + 1\n",
        "        print(f\"Coluna {valor} possui {zero_coluna} valores nulos\")\n",
        "print(cont)"
      ],
      "execution_count": 10,
      "outputs": [
        {
          "output_type": "stream",
          "text": [
            "Coluna TP_ESTADO_CIVIL possui 528 valores nulos\n",
            "Coluna CO_MUNICIPIO_NASCIMENTO possui 609 valores nulos\n",
            "Coluna NO_MUNICIPIO_NASCIMENTO possui 609 valores nulos\n",
            "Coluna CO_UF_NASCIMENTO possui 609 valores nulos\n",
            "Coluna SG_UF_NASCIMENTO possui 609 valores nulos\n",
            "Coluna TP_ENSINO possui 9448 valores nulos\n",
            "Coluna CO_ESCOLA possui 9448 valores nulos\n",
            "Coluna CO_MUNICIPIO_ESC possui 9448 valores nulos\n",
            "Coluna NO_MUNICIPIO_ESC possui 9448 valores nulos\n",
            "Coluna CO_UF_ESC possui 9448 valores nulos\n",
            "Coluna SG_UF_ESC possui 9448 valores nulos\n",
            "Coluna TP_DEPENDENCIA_ADM_ESC possui 9448 valores nulos\n",
            "Coluna TP_LOCALIZACAO_ESC possui 9448 valores nulos\n",
            "Coluna TP_SIT_FUNC_ESC possui 9448 valores nulos\n",
            "Coluna NO_ENTIDADE_CERTIFICACAO possui 12092 valores nulos\n",
            "Coluna CO_UF_ENTIDADE_CERTIFICACAO possui 12092 valores nulos\n",
            "Coluna SG_UF_ENTIDADE_CERTIFICACAO possui 12092 valores nulos\n",
            "Coluna NU_NOTA_CN possui 3389 valores nulos\n",
            "Coluna NU_NOTA_CH possui 3389 valores nulos\n",
            "Coluna NU_NOTA_LC possui 3597 valores nulos\n",
            "Coluna NU_NOTA_MT possui 3597 valores nulos\n",
            "Coluna TX_RESPOSTAS_CN possui 3389 valores nulos\n",
            "Coluna TX_RESPOSTAS_CH possui 3389 valores nulos\n",
            "Coluna TX_RESPOSTAS_LC possui 3597 valores nulos\n",
            "Coluna TX_RESPOSTAS_MT possui 3597 valores nulos\n",
            "Coluna TX_GABARITO_CN possui 3389 valores nulos\n",
            "Coluna TX_GABARITO_CH possui 3389 valores nulos\n",
            "Coluna TX_GABARITO_LC possui 3597 valores nulos\n",
            "Coluna TX_GABARITO_MT possui 3597 valores nulos\n",
            "Coluna TP_STATUS_REDACAO possui 3597 valores nulos\n",
            "Coluna NU_NOTA_COMP1 possui 3597 valores nulos\n",
            "Coluna NU_NOTA_COMP2 possui 3597 valores nulos\n",
            "Coluna NU_NOTA_COMP3 possui 3597 valores nulos\n",
            "Coluna NU_NOTA_COMP4 possui 3597 valores nulos\n",
            "Coluna NU_NOTA_COMP5 possui 3597 valores nulos\n",
            "Coluna NU_NOTA_REDACAO possui 3597 valores nulos\n",
            "Coluna Q027 possui 7373 valores nulos\n",
            "Coluna Q028 possui 7376 valores nulos\n",
            "Coluna Q029 possui 7375 valores nulos\n",
            "Coluna Q030 possui 7375 valores nulos\n",
            "Coluna Q031 possui 7376 valores nulos\n",
            "Coluna Q032 possui 7376 valores nulos\n",
            "Coluna Q033 possui 7376 valores nulos\n",
            "Coluna Q041 possui 10792 valores nulos\n",
            "44\n"
          ],
          "name": "stdout"
        }
      ]
    },
    {
      "cell_type": "code",
      "metadata": {
        "id": "rCXYMuH9EKgQ",
        "colab_type": "code",
        "outputId": "8622f032-c7c3-4d78-8d09-2f0e1eab5b95",
        "colab": {
          "base_uri": "https://localhost:8080/",
          "height": 678
        }
      },
      "source": [
        "for i in colunas_notas:\n",
        "  train[i] = train[i].fillna(0)\n",
        "cont = 0\n",
        "for valor in colunas:\n",
        "    if( (train[valor].isnull().sum()) > 0):\n",
        "        zero_coluna = train[valor].isnull().sum()\n",
        "        cont = cont + 1\n",
        "        print(f\"Coluna {valor} possui {zero_coluna} valores nulos\")\n",
        "print(cont)"
      ],
      "execution_count": 11,
      "outputs": [
        {
          "output_type": "stream",
          "text": [
            "Coluna TP_ESTADO_CIVIL possui 528 valores nulos\n",
            "Coluna CO_MUNICIPIO_NASCIMENTO possui 609 valores nulos\n",
            "Coluna NO_MUNICIPIO_NASCIMENTO possui 609 valores nulos\n",
            "Coluna CO_UF_NASCIMENTO possui 609 valores nulos\n",
            "Coluna SG_UF_NASCIMENTO possui 609 valores nulos\n",
            "Coluna TP_ENSINO possui 9448 valores nulos\n",
            "Coluna CO_ESCOLA possui 9448 valores nulos\n",
            "Coluna CO_MUNICIPIO_ESC possui 9448 valores nulos\n",
            "Coluna NO_MUNICIPIO_ESC possui 9448 valores nulos\n",
            "Coluna CO_UF_ESC possui 9448 valores nulos\n",
            "Coluna SG_UF_ESC possui 9448 valores nulos\n",
            "Coluna TP_DEPENDENCIA_ADM_ESC possui 9448 valores nulos\n",
            "Coluna TP_LOCALIZACAO_ESC possui 9448 valores nulos\n",
            "Coluna TP_SIT_FUNC_ESC possui 9448 valores nulos\n",
            "Coluna NO_ENTIDADE_CERTIFICACAO possui 12092 valores nulos\n",
            "Coluna CO_UF_ENTIDADE_CERTIFICACAO possui 12092 valores nulos\n",
            "Coluna SG_UF_ENTIDADE_CERTIFICACAO possui 12092 valores nulos\n",
            "Coluna NU_NOTA_MT possui 3597 valores nulos\n",
            "Coluna TX_RESPOSTAS_CN possui 3389 valores nulos\n",
            "Coluna TX_RESPOSTAS_CH possui 3389 valores nulos\n",
            "Coluna TX_RESPOSTAS_LC possui 3597 valores nulos\n",
            "Coluna TX_RESPOSTAS_MT possui 3597 valores nulos\n",
            "Coluna TX_GABARITO_CN possui 3389 valores nulos\n",
            "Coluna TX_GABARITO_CH possui 3389 valores nulos\n",
            "Coluna TX_GABARITO_LC possui 3597 valores nulos\n",
            "Coluna TX_GABARITO_MT possui 3597 valores nulos\n",
            "Coluna TP_STATUS_REDACAO possui 3597 valores nulos\n",
            "Coluna Q027 possui 7373 valores nulos\n",
            "Coluna Q028 possui 7376 valores nulos\n",
            "Coluna Q029 possui 7375 valores nulos\n",
            "Coluna Q030 possui 7375 valores nulos\n",
            "Coluna Q031 possui 7376 valores nulos\n",
            "Coluna Q032 possui 7376 valores nulos\n",
            "Coluna Q033 possui 7376 valores nulos\n",
            "Coluna Q041 possui 10792 valores nulos\n",
            "35\n"
          ],
          "name": "stdout"
        }
      ]
    },
    {
      "cell_type": "code",
      "metadata": {
        "id": "rW5-c3bYJUOI",
        "colab_type": "code",
        "colab": {
          "base_uri": "https://localhost:8080/",
          "height": 404
        },
        "outputId": "8abc624c-1c05-4ddd-fab1-fc6762d1e9de"
      },
      "source": [
        "sns.set_style('whitegrid')\n",
        "f, axes = plt.subplots(1, 2, figsize=(16, 6))\n",
        "\n",
        "df = train.groupby('TP_SEXO')['TP_SEXO'].count()\n",
        "df.plot(kind='bar',title = 'Quantidade de Inscristos por sexo', ax=axes[0])\n",
        "\n",
        "df = train.groupby('TP_COR_RACA')['TP_COR_RACA'].count()\n",
        "df.plot(kind='bar',title = 'Quantidade de Inscristos por Etinia', ax=axes[1])\n",
        "\n",
        "plt.show()"
      ],
      "execution_count": 12,
      "outputs": [
        {
          "output_type": "display_data",
          "data": {
            "image/png": "[encoded data removed]",
            "text/plain": [
              "<Figure size 1152x432 with 2 Axes>"
            ]
          },
          "metadata": {
            "tags": []
          }
        }
      ]
    },
    {
      "cell_type": "code",
      "metadata": {
        "id": "c4JqDapWROeZ",
        "colab_type": "code",
        "colab": {}
      },
      "source": [
        "df =  train[[\"NU_IDADE\",\"NU_NOTA_MT\"]].dropna()"
      ],
      "execution_count": 0,
      "outputs": []
    },
    {
      "cell_type": "code",
      "metadata": {
        "id": "ip9t_J9IJWlI",
        "colab_type": "code",
        "colab": {
          "base_uri": "https://localhost:8080/",
          "height": 182
        },
        "outputId": "90dbc805-ba2d-4f63-dc50-5fe64cae666c"
      },
      "source": [
        "train['NU_NOTA_MT'].describe()"
      ],
      "execution_count": 14,
      "outputs": [
        {
          "output_type": "execute_result",
          "data": {
            "text/plain": [
              "count    10133.000000\n",
              "mean       482.497928\n",
              "std         99.826323\n",
              "min          0.000000\n",
              "25%        408.900000\n",
              "50%        461.200000\n",
              "75%        537.600000\n",
              "max        952.000000\n",
              "Name: NU_NOTA_MT, dtype: float64"
            ]
          },
          "metadata": {
            "tags": []
          },
          "execution_count": 14
        }
      ]
    },
    {
      "cell_type": "code",
      "metadata": {
        "id": "z5IBAjlsK1BD",
        "colab_type": "code",
        "colab": {
          "base_uri": "https://localhost:8080/",
          "height": 405
        },
        "outputId": "61b6ac7d-739a-4eb7-bd1d-b3984ab5298a"
      },
      "source": [
        ""
      ],
      "execution_count": 16,
      "outputs": [
        {
          "output_type": "display_data",
          "data": {
            "text/plain": [
              "<Figure size 1152x576 with 0 Axes>"
            ]
          },
          "metadata": {
            "tags": []
          }
        },
        {
          "output_type": "display_data",
          "data": {
            "image/png": "[encoded data removed]",
            "text/plain": [
              "<Figure size 360x360 with 5 Axes>"
            ]
          },
          "metadata": {
            "tags": []
          }
        }
      ]
    },
    {
      "cell_type": "code",
      "metadata": {
        "id": "h67M40NfOWg7",
        "colab_type": "code",
        "colab": {}
      },
      "source": [
        ""
      ],
      "execution_count": 0,
      "outputs": []
    }
  ]
}